{
 "cells": [
  {
   "cell_type": "code",
   "execution_count": null,
   "metadata": {
    "ExecuteTime": {
     "end_time": "2023-05-03T08:57:00.976796Z",
     "start_time": "2023-05-03T08:57:00.448521Z"
    }
   },
   "outputs": [],
   "source": [
    "%matplotlib inline"
   ]
  },
  {
   "cell_type": "markdown",
   "metadata": {},
   "source": [
    "\n",
    "# Multi instrument joint 3D and 1D analysis\n",
    "\n",
    "Joint 3D analysis using 3D Fermi datasets, a H.E.S.S. reduced spectrum and HAWC and LHAASO flux points. This noteboook is adapted from https://docs.gammapy.org/1.0.1/tutorials/analysis-3d/analysis_mwl.html with some minor changes.\n",
    "![Example with the Naima model](https://github.com/tunbehaun273/Multi_instrument_tutorial/raw/main/crab-3datasets/naima_fit.jpg)\n",
    "\n",
    "## Context\n",
    "\n",
    "Some science studies require to combine heterogeneous data from various\n",
    "instruments to extract physical information. In particular, it is often\n",
    "useful to add flux measurements of a source at different energies to an\n",
    "analysis to better constrain the wide-band spectral parameters. This can\n",
    "be done using a joint fit of heterogeneous datasets.\n",
    "\n",
    "**Objectives: Constrain the spectral parameters of the gamma-ray\n",
    "emission from the Crab nebula between 10 GeV and 1 PeV, using a 3D\n",
    "Fermi dataset, a H.E.S.S. reduced spectrum and HAWC and LHAASO flux points.**\n",
    "\n",
    "## Proposed approach\n",
    "\n",
    "This tutorial illustrates how to perform a joint modeling and fitting of\n",
    "the Crab Nebula spectrum using different datasets. The spectral\n",
    "parameters are optimized by combining a 3D analysis of Fermi-LAT data, a\n",
    "ON/OFF spectral analysis of HESS data, and flux points from HAWC and LHAASO.\n",
    "\n",
    "In this tutorial we are going to use pre-made datasets. We prepared maps\n",
    "of the Crab region as seen by Fermi-LAT using the same event selection\n",
    "than the [3FHL catalog](https://arxiv.org/abs/1702.00664)_ (7 years of\n",
    "data with energy from 10 GeV to 2 TeV). For the HESS ON/OFF analysis we\n",
    "used two observations from the [first public data\n",
    "release](https://arxiv.org/abs/1810.04516)_ with a significant signal\n",
    "from energy of about 600 GeV to 10 TeV. These observations have an\n",
    "offset of 0.5° and a zenith angle of 45-48°. The HAWC flux points data\n",
    "are taken from a [recent\n",
    "analysis](https://arxiv.org/pdf/1905.12518.pdf)_ based on 2.5 years of\n",
    "data with energy between 300 Gev and 300 TeV. For the very high energy part we use recent [data](https://arxiv.org/pdf/2111.06545.pdf) from LHAASO extending over 1 PeV.\n",
    "\n",
    "## The setup\n"
   ]
  },
  {
   "cell_type": "code",
   "execution_count": null,
   "metadata": {},
   "outputs": [],
   "source": [
    "### Only for running on Google Collab\n",
    "# !pip install gammapy\n",
    "# !pip install naima\n",
    "# !git clone https://github.com/tunbehaun273/Multi_instrument_tutorial.git"
   ]
  },
  {
   "cell_type": "code",
   "execution_count": null,
   "metadata": {
    "ExecuteTime": {
     "end_time": "2023-05-03T08:57:04.312110Z",
     "start_time": "2023-05-03T08:57:01.655722Z"
    }
   },
   "outputs": [],
   "source": [
    "from pathlib import Path\n",
    "import numpy as np\n",
    "from astropy import units as u\n",
    "from astropy.constants import c\n",
    "import matplotlib.pyplot as plt\n",
    "from gammapy.datasets import Datasets\n",
    "from gammapy.estimators import FluxPoints, FluxPointsEstimator\n",
    "from gammapy.maps import MapAxis\n",
    "from gammapy.modeling import Fit\n",
    "from gammapy.modeling.models import (Models, \n",
    "                                     SkyModel, \n",
    "                                     create_crab_spectral_model,\n",
    "                                     NaimaSpectralModel, \n",
    "                                     SmoothBrokenPowerLawSpectralModel,\n",
    "                                     PointSpatialModel,\n",
    "                                     GaussianSpatialModel,\n",
    "                                     DiskSpatialModel)\n",
    "\n",
    "from naima.models import (\n",
    "    ExponentialCutoffBrokenPowerLaw,\n",
    "    InverseCompton,\n",
    "    Synchrotron,\n",
    ")\n",
    "from regions import CircleSkyRegion"
   ]
  },
  {
   "cell_type": "markdown",
   "metadata": {},
   "source": [
    "## Datasets\n",
    "\n",
    "The `datasets` object contains each dataset previously written to disk datasets.yaml, models.yaml, and several data files\n",
    "specific to each dataset. The `datasets` can be read from these files.\n",
    "\n",
    "\n"
   ]
  },
  {
   "cell_type": "code",
   "execution_count": null,
   "metadata": {
    "ExecuteTime": {
     "end_time": "2023-05-03T08:57:06.425119Z",
     "start_time": "2023-05-03T08:57:06.301376Z"
    }
   },
   "outputs": [],
   "source": [
    "path = Path(\"crab-3datasets\") # for local execution\n",
    "# path = Path(\"./Multi_instrument_tutorial/crab-3datasets\") # for Google Collab\n",
    "\n",
    "filename = path / \"crab_10GeV_100TeV_datasets.yaml\"\n",
    "\n",
    "datasets = Datasets.read(filename)\n",
    "\n",
    "print(datasets)"
   ]
  },
  {
   "cell_type": "markdown",
   "metadata": {},
   "source": [
    "### The statistics\n",
    "The total cost function minimized by the fit is $$\\mathcal{C} = -2\\ln(\\mathcal{L_\\mathrm{Fermi}}) - 2\\ln(\\mathcal{L_\\mathrm{HESS}}) + \\chi^2_\\mathrm{HAWC} + + \\chi^2_\\mathrm{LHAASO}.$$\n",
    "\n",
    "- For the 3D Fermi dataset where the mean of the background is supposed to be known the so-called *cash* statistics is used where $$-2\\ln(\\mathcal{L_\\mathrm{Fermi}}) = 2(\\mu_\\mathrm{on}-n_\\mathrm{on}\\ln\\mu_\\mathrm{on})$$ with $\\mu_\\mathrm{on} = \\mu_\\mathrm{sig}+\\mu_\\mathrm{bkg}$ the predicted number of counts by the models and $n_\\mathrm{on}$ the measured number. The statistics is calculated per pixel and summed in the end.\n",
    "\n",
    "\n",
    "\n",
    "- For the 1D HESS dataset where the background is measured from the Off-regions we use the *WStat* $$-2\\ln(\\mathcal{L_\\mathrm{HESS}}) = 2(\\mu_\\mathrm{sig}+(1+1/\\alpha)\\mu_\\mathrm{bkg} - n_\\mathrm{on}\\ln(\\mu_\\mathrm{sig} + \\mu_\\mathrm{bkg}) - n_\\mathrm{off}\\ln(\\mu_\\mathrm{bkg}/\\alpha)),$$ where in the most general case, where $\\mu_\\mathrm{sig}$ and $\\mu_\\mathrm{bkg}$ are free, the minimum is at $$\\mu_\\mathrm{sig} = n_\\mathrm{on} - \\alpha n_\\mathrm{off}$$ $$\\mu_\\mathrm{bkg}=\\alpha n_\\mathrm{off}$$\n",
    "\n",
    "\n",
    "\n",
    "- For the `FluxPointsDatasets` the usual $\\chi^2$ statistics is used.\n",
    "\n",
    "Why are we allowed to add all those different statistics in the combined likelihood?"
   ]
  },
  {
   "cell_type": "code",
   "execution_count": null,
   "metadata": {
    "ExecuteTime": {
     "end_time": "2023-05-03T08:58:58.319058Z",
     "start_time": "2023-05-03T08:58:58.316834Z"
    }
   },
   "outputs": [],
   "source": [
    "# closer look at the individual datasets\n",
    "# HINT: the names of the datasets can be found with datasets.names\n",
    "print(datasets['HAWC'])"
   ]
  },
  {
   "cell_type": "code",
   "execution_count": null,
   "metadata": {
    "ExecuteTime": {
     "end_time": "2023-05-03T09:49:17.090253Z",
     "start_time": "2023-05-03T09:49:15.750534Z"
    }
   },
   "outputs": [],
   "source": [
    "datasets['HESS'].peek()"
   ]
  },
  {
   "cell_type": "code",
   "execution_count": null,
   "metadata": {
    "ExecuteTime": {
     "end_time": "2023-05-03T09:50:02.696154Z",
     "start_time": "2023-05-03T09:50:01.572312Z"
    }
   },
   "outputs": [],
   "source": [
    "datasets['Fermi-LAT'].peek()"
   ]
  },
  {
   "cell_type": "markdown",
   "metadata": {},
   "source": [
    "## Define the models\n",
    "\n",
    "In order to decribe the Crab's emission we need to define a `SkyModel` with a spectral component for the 1D datasets and an additional spatial component for the Fermi 3D dataset. \n",
    "\n",
    "Choose appropriate models (at the block indicated with `**------**`) and run the fit."
   ]
  },
  {
   "cell_type": "code",
   "execution_count": null,
   "metadata": {
    "ExecuteTime": {
     "end_time": "2023-04-29T15:35:53.000871Z",
     "start_time": "2023-04-29T15:35:52.917835Z"
    }
   },
   "outputs": [],
   "source": [
    "### Start with the spectral models ###\n",
    "\n",
    "# Stuff for the Naima Spectral Model\n",
    "# ----------------------------------\n",
    "ECBPL = ExponentialCutoffBrokenPowerLaw(\n",
    "    amplitude=5.5e+35 / u.eV,\n",
    "    e_0=1 * u.TeV,\n",
    "    e_break=2.5 * u.TeV,\n",
    "    alpha_1=2.2e+00,\n",
    "    alpha_2=3.7,\n",
    "    e_cutoff=3.497e+01 * u.PeV,\n",
    "    beta=2.017e+00,\n",
    ")\n",
    "\n",
    "SYN = Synchrotron(ECBPL, B=125 * u.uG, Eemax=50 * u.PeV, Eemin=0.1 * u.GeV)\n",
    "\n",
    "# Compute photon density spectrum from synchrotron emission assuming R=2.1 pc\n",
    "Rpwn = 2.1 * u.pc\n",
    "Esy = np.logspace(-7, 9, 100) * u.eV\n",
    "Lsy = SYN.flux(Esy, distance=0 * u.cm)  # use distance 0 to get luminosity\n",
    "phn_sy = Lsy / (4 * np.pi * Rpwn ** 2 * c) * 2.24\n",
    "\n",
    "IC = InverseCompton(\n",
    "    ECBPL,\n",
    "    seed_photon_fields=[\n",
    "        \"CMB\",\n",
    "        [\"SSC\", Esy, phn_sy],\n",
    "       [\"FIR\", 2.5 * u.K, 0.15 * u.eV / u.cm ** 3],\n",
    "    ],\n",
    "    Eemax=50 * u.PeV,\n",
    "    Eemin=0.1 * u.GeV,\n",
    ")\n",
    "# ----------------------------------\n",
    "\n",
    "spectral_model_naima = NaimaSpectralModel(radiative_model=IC, distance=2 * u.kpc, nested_models={'SSC':{'B':SYN.B, 'radius':Rpwn}})\n",
    "spectral_model_LP = create_crab_spectral_model('magic_lp')\n",
    "spectral_model_PL = create_crab_spectral_model('hess_pl')\n",
    "spectral_model_ECPL = create_crab_spectral_model('hess_ecpl')\n",
    "spectral_model_SBPL = SmoothBrokenPowerLawSpectralModel(amplitude='1.5879e-10 cm-2 s-1 TeV-1', \n",
    "                                          reference='1 TeV', \n",
    "                                          index1=1.74, \n",
    "                                          index2=2.84,\n",
    "                                          ebreak=0.39*u.TeV,\n",
    "                                          beta=1) \n",
    "\n",
    "### Now the spatial models ###\n",
    "spatial_model_point = PointSpatialModel(lon_0=\"184.55 deg\", lat_0=\"-5.78 deg\", frame = 'galactic')\n",
    "spatial_model_gauss = spatial_model=GaussianSpatialModel(lon_0=\"184.55 deg\", lat_0=\"-5.78 deg\", sigma='1.9e-02 deg', frame = 'galactic')\n",
    "spatial_model_gauss = spatial_model=GaussianSpatialModel(lon_0=\"184.55 deg\", lat_0=\"-5.78 deg\", r0='2.3e-02 deg', frame = 'galactic')\n",
    "\n",
    "### Define the 3D SkyModel ###\n",
    "#**---------------------------------------**#\n",
    "#   Change to the best suited models here   #\n",
    "#   (The Naima model takes long for fitting ~3h)\n",
    "crab_model = SkyModel(\n",
    "    spatial_model=spatial_model_point,\n",
    "    spectral_model=spectral_model_LP,\n",
    "    name='Crab')\n",
    "#**---------------------------------------**#\n",
    "\n",
    "# freeze all spatial parameters\n",
    "crab_model.spatial_model.parameters.freeze_all()\n",
    "\n",
    "### Add the models to the datasets\n",
    "models = Models.read(path / \"Fermi-LAT-3FHL_models.yaml\") # the bkg model for Fermi\n",
    "models.append(crab_model)\n",
    "datasets.models = models"
   ]
  },
  {
   "cell_type": "code",
   "execution_count": null,
   "metadata": {
    "ExecuteTime": {
     "end_time": "2023-04-29T15:23:48.035452Z",
     "start_time": "2023-04-29T15:23:46.826127Z"
    }
   },
   "outputs": [],
   "source": [
    "kwargs={'energy_bounds':[0.1,100]*u.TeV, 'energy_power':2}\n",
    "spectral_model_naima.plot(label='Naima', **kwargs)\n",
    "spectral_model_LP.plot(label='LogParabola', **kwargs)\n",
    "spectral_model_PL.plot(label='PowerLaw', **kwargs)\n",
    "spectral_model_ECPL.plot(label='Exp Cutoff Pl', **kwargs)\n",
    "spectral_model_SBPL.plot(label='Smooth broken Pl', **kwargs)\n",
    "\n",
    "plt.legend()"
   ]
  },
  {
   "cell_type": "markdown",
   "metadata": {},
   "source": [
    "## Joint analysis\n",
    "\n",
    "We run the fit on the `Datasets` object that include a dataset for\n",
    "each instrument\n",
    "\n",
    "\n"
   ]
  },
  {
   "cell_type": "code",
   "execution_count": null,
   "metadata": {
    "ExecuteTime": {
     "end_time": "2023-04-29T18:20:33.357394Z",
     "start_time": "2023-04-29T15:35:56.860773Z"
    },
    "scrolled": true
   },
   "outputs": [],
   "source": [
    "fit_joint = Fit()\n",
    "results_joint = fit_joint.run(datasets=datasets)\n",
    "print(results_joint)"
   ]
  },
  {
   "cell_type": "markdown",
   "metadata": {},
   "source": [
    "Let’s display only the parameters of the Crab spectral model\n",
    "\n",
    "\n"
   ]
  },
  {
   "cell_type": "code",
   "execution_count": null,
   "metadata": {
    "ExecuteTime": {
     "end_time": "2023-04-29T19:23:04.895369Z",
     "start_time": "2023-04-29T19:23:04.891173Z"
    },
    "scrolled": true
   },
   "outputs": [],
   "source": [
    "crab_spec = datasets[0].models[\"Crab\"].spectral_model\n",
    "print(crab_spec)"
   ]
  },
  {
   "cell_type": "markdown",
   "metadata": {},
   "source": [
    "We can compute flux points for Fermi-LAT and HESS datasets in order plot\n",
    "them together with the HAWC flux point.\n",
    "\n",
    "\n"
   ]
  },
  {
   "cell_type": "code",
   "execution_count": null,
   "metadata": {
    "ExecuteTime": {
     "end_time": "2023-04-29T15:35:03.205210Z",
     "start_time": "2023-04-29T15:35:00.678745Z"
    }
   },
   "outputs": [],
   "source": [
    "# compute Fermi-LAT and HESS flux points\n",
    "energy_edges = MapAxis.from_energy_bounds(\"10 GeV\", \"2 TeV\", nbin=5).edges\n",
    "\n",
    "flux_points_fermi = FluxPointsEstimator(\n",
    "    energy_edges=energy_edges,\n",
    "    source=\"Crab\",\n",
    ").run([datasets[\"Fermi-LAT\"]])\n",
    "\n",
    "\n",
    "energy_edges = MapAxis.from_bounds(1, 15, nbin=6, interp=\"log\", unit=\"TeV\").edges\n",
    "\n",
    "flux_points_hess = FluxPointsEstimator(\n",
    "    energy_edges=energy_edges, source=\"Crab\", selection_optional=[\"ul\"]\n",
    ").run([datasets[\"HESS\"]])\n",
    "\n",
    "# set HAWC and LHAASO flux points\n",
    "flux_points_hawc = datasets['HAWC'].data\n",
    "flux_points_LHAASO = datasets['LHAASO'].data"
   ]
  },
  {
   "cell_type": "markdown",
   "metadata": {},
   "source": [
    "Now, Let’s plot the Crab spectrum fitted and the flux points of each\n",
    "instrument.\n",
    "\n",
    "\n"
   ]
  },
  {
   "cell_type": "code",
   "execution_count": null,
   "metadata": {
    "ExecuteTime": {
     "end_time": "2023-04-29T19:31:16.560989Z",
     "start_time": "2023-04-29T19:30:58.721193Z"
    },
    "scrolled": false
   },
   "outputs": [],
   "source": [
    "# display spectrum and flux points\n",
    "fig, ax = plt.subplots(figsize=(8, 6))\n",
    "\n",
    "energy_bounds = [0.01, 3e3] * u.TeV\n",
    "sed_type = \"e2dnde\"\n",
    "\n",
    "crab_spec.plot(ax=ax, energy_bounds=energy_bounds, sed_type=sed_type, label=\"Model\")\n",
    "crab_spec.plot_error(ax=ax, energy_bounds=energy_bounds, sed_type=sed_type)\n",
    "if isinstance(crab_spec, NaimaSpectralModel):\n",
    "    # Plot the separate contributions from each seed photon field\n",
    "    for seed, ls in zip(crab_spec.radiative_model.seed_photon_fields.keys(), ['-','--',':']):\n",
    "        if seed =='SSC':\n",
    "            B_value=crab_spec.B.value\n",
    "            model = NaimaSpectralModel(radiative_model=IC, seed=seed, distance=2*u.kpc, nested_models={'SSC':{'B':B_value*u.uG, 'radius':Rpwn}})\n",
    "        else: model = NaimaSpectralModel(radiative_model=IC, seed=seed, distance=2 * u.kpc)\n",
    "        model.plot(label=\"IC ({})\".format(seed), ls=ls, color=\"gray\",alpha=0.5, ax=ax, energy_bounds=energy_bounds, sed_type=sed_type)\n",
    "\n",
    "\n",
    "flux_points_fermi.plot(ax=ax, sed_type=sed_type, label=\"Fermi-LAT\")\n",
    "flux_points_hess.plot(ax=ax, sed_type=sed_type, label=\"HESS\")\n",
    "flux_points_hawc.plot(ax=ax, sed_type=sed_type, label=\"HAWC\")\n",
    "flux_points_LHAASO.plot(ax=ax, sed_type=sed_type, label=\"LHAASO\")\n",
    "\n",
    "ax.set_xlim(energy_bounds)\n",
    "ax.legend()\n",
    "plt.show()"
   ]
  },
  {
   "cell_type": "markdown",
   "metadata": {
    "ExecuteTime": {
     "end_time": "2023-04-29T19:27:58.219914Z",
     "start_time": "2023-04-29T19:27:58.217683Z"
    }
   },
   "source": [
    "## Inpsect the residuals"
   ]
  },
  {
   "cell_type": "code",
   "execution_count": null,
   "metadata": {
    "ExecuteTime": {
     "end_time": "2023-04-29T19:36:40.975182Z",
     "start_time": "2023-04-29T19:36:40.530356Z"
    }
   },
   "outputs": [],
   "source": [
    "# Fermi\n",
    "region = CircleSkyRegion(\n",
    "    center=crab_model.spatial_model.position, radius=0.5 * u.deg\n",
    ")\n",
    "datasets['Fermi-LAT'].plot_residuals(\n",
    "        kwargs_spatial=dict(method=\"diff/sqrt(model)\", vmin=-2, vmax=2),\n",
    "        kwargs_spectral=dict(method=\"diff/sqrt(model)\",region=region),\n",
    "        );"
   ]
  },
  {
   "cell_type": "code",
   "execution_count": null,
   "metadata": {
    "ExecuteTime": {
     "end_time": "2023-04-29T19:53:14.954893Z",
     "start_time": "2023-04-29T19:53:14.744019Z"
    }
   },
   "outputs": [],
   "source": [
    "# Hess\n",
    "datasets['HESS'].plot_residuals_spectral(method=\"diff/sqrt(model)\")"
   ]
  },
  {
   "cell_type": "code",
   "execution_count": null,
   "metadata": {
    "ExecuteTime": {
     "end_time": "2023-04-29T19:55:48.830416Z",
     "start_time": "2023-04-29T19:55:48.492194Z"
    }
   },
   "outputs": [],
   "source": [
    "# HAWC\n",
    "datasets['HAWC'].plot_residuals(method=\"diff/model\")"
   ]
  },
  {
   "cell_type": "code",
   "execution_count": null,
   "metadata": {
    "ExecuteTime": {
     "end_time": "2023-04-29T19:57:11.135592Z",
     "start_time": "2023-04-29T19:57:10.775311Z"
    }
   },
   "outputs": [],
   "source": [
    "# LHAASO\n",
    "datasets['LHAASO'].plot_residuals(method=\"diff/model\")\n",
    "plt.ylim(-2,2)"
   ]
  },
  {
   "cell_type": "markdown",
   "metadata": {},
   "source": [
    "## Addition\n",
    "If you want you can try to quantify the goodness of fit (by looking at chi2 values, residual significance distributions, or likelihood ratios).\n",
    "\n",
    "You can access the current value of the cost function by calling `datasets.stat_sum()` for the overall value or `datasets[<name>].stata_sum()` for the individual contributions. By comparing those values for different models one can quantify the goodness of fit for individual datasets or the combined fit and choose an appropriate model. For the interpretation do not forget to consider the number of free parameters of the model and whether or not the models are nested."
   ]
  },
  {
   "cell_type": "code",
   "execution_count": null,
   "metadata": {},
   "outputs": [],
   "source": []
  }
 ],
 "metadata": {
  "kernelspec": {
   "display_name": "Python [conda env:gammapy-1.0]",
   "language": "python",
   "name": "conda-env-gammapy-1.0-py"
  },
  "language_info": {
   "codemirror_mode": {
    "name": "ipython",
    "version": 3
   },
   "file_extension": ".py",
   "mimetype": "text/x-python",
   "name": "python",
   "nbconvert_exporter": "python",
   "pygments_lexer": "ipython3",
   "version": "3.9.15"
  }
 },
 "nbformat": 4,
 "nbformat_minor": 1
}
