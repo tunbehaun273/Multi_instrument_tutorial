{
 "cells": [
  {
   "cell_type": "code",
   "execution_count": 1,
   "metadata": {
    "ExecuteTime": {
     "end_time": "2023-04-29T09:47:20.367927Z",
     "start_time": "2023-04-29T09:47:20.004800Z"
    }
   },
   "outputs": [],
   "source": [
    "%matplotlib inline"
   ]
  },
  {
   "cell_type": "markdown",
   "metadata": {},
   "source": [
    "\n",
    "# Multi instrument joint 3D and 1D analysis\n",
    "\n",
    "Joint 3D analysis using 3D Fermi datasets, a H.E.S.S. reduced spectrum and HAWC flux points.\n",
    "\n",
    "## Prerequisites\n",
    "\n",
    "-  Handling of Fermi-LAT data with Gammapy see the :doc:`/tutorials/data/fermi_lat` tutorial.\n",
    "-  Knowledge of spectral analysis to produce 1D On-Off datasets, see\n",
    "   the following :doc:`/tutorials/analysis-1d/spectral_analysis` tutorial.\n",
    "-  Using flux points to directly fit a model (without forward-folding) from the \n",
    "   :doc:`/tutorials/analysis-1d/sed_fitting` tutorial.\n",
    "\n",
    "## Context\n",
    "\n",
    "Some science studies require to combine heterogeneous data from various\n",
    "instruments to extract physical information. In particular, it is often\n",
    "useful to add flux measurements of a source at different energies to an\n",
    "analysis to better constrain the wide-band spectral parameters. This can\n",
    "be done using a joint fit of heterogeneous datasets.\n",
    "\n",
    "**Objectives: Constrain the spectral parameters of the gamma-ray\n",
    "emission from the Crab nebula between 10 GeV and 100 TeV, using a 3D\n",
    "Fermi dataset, a H.E.S.S. reduced spectrum and HAWC flux points.**\n",
    "\n",
    "## Proposed approach\n",
    "\n",
    "This tutorial illustrates how to perform a joint modeling and fitting of\n",
    "the Crab Nebula spectrum using different datasets. The spectral\n",
    "parameters are optimized by combining a 3D analysis of Fermi-LAT data, a\n",
    "ON/OFF spectral analysis of HESS data, and flux points from HAWC.\n",
    "\n",
    "In this tutorial we are going to use pre-made datasets. We prepared maps\n",
    "of the Crab region as seen by Fermi-LAT using the same event selection\n",
    "than the [3FHL catalog](https://arxiv.org/abs/1702.00664)_ (7 years of\n",
    "data with energy from 10 GeV to 2 TeV). For the HESS ON/OFF analysis we\n",
    "used two observations from the [first public data\n",
    "release](https://arxiv.org/abs/1810.04516)_ with a significant signal\n",
    "from energy of about 600 GeV to 10 TeV. These observations have an\n",
    "offset of 0.5° and a zenith angle of 45-48°. The HAWC flux points data\n",
    "are taken from a [recent\n",
    "analysis](https://arxiv.org/pdf/1905.12518.pdf)_ based on 2.5 years of\n",
    "data with energy between 300 Gev and 300 TeV.\n",
    "\n",
    "## The setup\n"
   ]
  },
  {
   "cell_type": "code",
   "execution_count": 40,
   "metadata": {
    "ExecuteTime": {
     "end_time": "2023-04-29T10:29:31.238450Z",
     "start_time": "2023-04-29T10:29:31.236184Z"
    }
   },
   "outputs": [],
   "source": [
    "from pathlib import Path\n",
    "import numpy as np\n",
    "from astropy import units as u\n",
    "import matplotlib.pyplot as plt\n",
    "from gammapy.datasets import Datasets, FluxPointsDataset, SpectrumDatasetOnOff\n",
    "from gammapy.estimators import FluxPoints, FluxPointsEstimator\n",
    "from gammapy.maps import MapAxis\n",
    "from gammapy.modeling import Fit\n",
    "from gammapy.modeling.models import Models, create_crab_spectral_model"
   ]
  },
  {
   "cell_type": "markdown",
   "metadata": {},
   "source": [
    "## Check setup\n",
    "\n"
   ]
  },
  {
   "cell_type": "code",
   "execution_count": 6,
   "metadata": {
    "ExecuteTime": {
     "end_time": "2023-04-29T09:48:54.253729Z",
     "start_time": "2023-04-29T09:48:53.517716Z"
    }
   },
   "outputs": [
    {
     "name": "stdout",
     "output_type": "stream",
     "text": [
      "env: GAMMAPY_DATA=/home/hpc/caph/mppi086h/woody/software/gammapy-tutorials/gammapy-datasets/1.0\n",
      "\n",
      "System:\n",
      "\n",
      "\tpython_executable      : /home/hpc/caph/mppi086h/wecap/software/anaconda3/envs/gammapy-1.0/bin/python \n",
      "\tpython_version         : 3.9.15     \n",
      "\tmachine                : x86_64     \n",
      "\tsystem                 : Linux      \n",
      "\n",
      "\n",
      "Gammapy package:\n",
      "\n",
      "\tversion                : 1.0        \n",
      "\tpath                   : /home/hpc/caph/mppi086h/wecap/software/anaconda3/envs/gammapy-1.0/lib/python3.9/site-packages/gammapy \n",
      "\n",
      "\n",
      "Other packages:\n",
      "\n",
      "\tnumpy                  : 1.23.5     \n",
      "\tscipy                  : 1.9.1      \n",
      "\tastropy                : 5.1.1      \n",
      "\tregions                : 0.6        \n",
      "\tclick                  : 8.1.3      \n",
      "\tyaml                   : 6.0        \n",
      "\tIPython                : 8.4.0      \n",
      "\tjupyterlab             : 3.4.8      \n",
      "\tmatplotlib             : 3.6.2      \n",
      "\tpandas                 : 1.5.0      \n",
      "\thealpy                 : 1.16.1     \n",
      "\timinuit                : 2.17.0     \n",
      "\tsherpa                 : 4.15.0     \n",
      "\tnaima                  : 0.10.0     \n",
      "\temcee                  : 3.1.3      \n",
      "\tcorner                 : 2.2.1      \n",
      "\n",
      "\n",
      "Gammapy environment variables:\n",
      "\n",
      "\tGAMMAPY_DATA           : /home/hpc/caph/mppi086h/woody/software/gammapy-tutorials/gammapy-datasets/1.0 \n",
      "\n"
     ]
    }
   ],
   "source": [
    "%env GAMMAPY_DATA=/home/hpc/caph/mppi086h/woody/software/gammapy-tutorials/gammapy-datasets/1.0\n",
    "from gammapy.utils.check import check_tutorials_setup\n",
    "from gammapy.utils.scripts import make_path\n",
    "\n",
    "check_tutorials_setup()"
   ]
  },
  {
   "cell_type": "markdown",
   "metadata": {},
   "source": [
    "## Data and models files\n",
    "\n",
    "The datasets serialization produce YAML files listing the datasets and\n",
    "models. In the following cells we show an example containning only the\n",
    "Fermi-LAT dataset and the Crab model.\n",
    "\n",
    "Fermi-LAT-3FHL_datasets.yaml:\n",
    "\n",
    "\n"
   ]
  },
  {
   "cell_type": "code",
   "execution_count": 6,
   "metadata": {
    "ExecuteTime": {
     "end_time": "2023-04-29T09:43:58.035338Z",
     "start_time": "2023-04-29T09:43:58.031437Z"
    }
   },
   "outputs": [
    {
     "name": "stdout",
     "output_type": "stream",
     "text": [
      "datasets:\n",
      "- name: Fermi-LAT\n",
      "  type: MapDataset\n",
      "  filename: Fermi-LAT-3FHL_data_Fermi-LAT.fits\n",
      "\n"
     ]
    }
   ],
   "source": [
    "path = make_path(\"$GAMMAPY_DATA/fermi-3fhl-crab/Fermi-LAT-3FHL_datasets.yaml\")\n",
    "\n",
    "with path.open(\"r\") as f:\n",
    "    print(f.read())"
   ]
  },
  {
   "cell_type": "markdown",
   "metadata": {},
   "source": [
    "We used as model a point source with a log-parabola spectrum. The\n",
    "initial parameters were taken from the latest Fermi-LAT catalog\n",
    "[4FGL](https://arxiv.org/abs/1902.10045)_, then we have re-optimized\n",
    "the spectral parameters for our dataset in the 10 GeV - 2 TeV energy\n",
    "range (fixing the source position).\n",
    "\n",
    "Fermi-LAT-3FHL_models.yaml:\n",
    "\n",
    "\n"
   ]
  },
  {
   "cell_type": "code",
   "execution_count": 7,
   "metadata": {
    "ExecuteTime": {
     "end_time": "2023-04-29T09:43:59.946433Z",
     "start_time": "2023-04-29T09:43:59.943913Z"
    }
   },
   "outputs": [
    {
     "name": "stdout",
     "output_type": "stream",
     "text": [
      "components:\n",
      "-   name: Crab Nebula\n",
      "    type: SkyModel\n",
      "    spectral:\n",
      "        type: LogParabolaSpectralModel\n",
      "        parameters:\n",
      "        -   name: amplitude\n",
      "            value: 0.018182745349064267\n",
      "            unit: cm-2 s-1 TeV-1\n",
      "            min: .nan\n",
      "            max: .nan\n",
      "            frozen: false\n",
      "            error: 0.003026327991562108\n",
      "        -   name: reference\n",
      "            value: 5.054833602905273e-05\n",
      "            unit: TeV\n",
      "            min: .nan\n",
      "            max: .nan\n",
      "            frozen: true\n",
      "            error: 0.0\n",
      "        -   name: alpha\n",
      "            value: 1.652368617859867\n",
      "            unit: ''\n",
      "            min: .nan\n",
      "            max: .nan\n",
      "            frozen: false\n",
      "            error: 0.05762513693893088\n",
      "        -   name: beta\n",
      "            value: 0.03921700077803329\n",
      "            unit: ''\n",
      "            min: .nan\n",
      "            max: .nan\n",
      "            frozen: false\n",
      "            error: 0.00521472221220211\n",
      "    spatial:\n",
      "        type: PointSpatialModel\n",
      "        frame: icrs\n",
      "        parameters:\n",
      "        -   name: lon_0\n",
      "            value: 83.63310241699219\n",
      "            unit: deg\n",
      "            min: .nan\n",
      "            max: .nan\n",
      "            frozen: true\n",
      "            error: 0.0\n",
      "        -   name: lat_0\n",
      "            value: 22.019899368286133\n",
      "            unit: deg\n",
      "            min: -90.0\n",
      "            max: 90.0\n",
      "            frozen: true\n",
      "            error: 0.0\n",
      "-   type: FoVBackgroundModel\n",
      "    datasets_names:\n",
      "    - Fermi-LAT\n",
      "    spectral:\n",
      "        type: PowerLawNormSpectralModel\n",
      "        parameters:\n",
      "        -   name: norm\n",
      "            value: 1.3004625872247901\n",
      "            unit: ''\n",
      "            min: 0.0\n",
      "            max: .nan\n",
      "            frozen: false\n",
      "            error: 0.07512322002655547\n",
      "        -   name: tilt\n",
      "            value: 0.0\n",
      "            unit: ''\n",
      "            min: .nan\n",
      "            max: .nan\n",
      "            frozen: true\n",
      "            error: 0.0\n",
      "        -   name: reference\n",
      "            value: 1.0\n",
      "            unit: TeV\n",
      "            min: .nan\n",
      "            max: .nan\n",
      "            frozen: true\n",
      "            error: 0.0\n",
      "\n"
     ]
    }
   ],
   "source": [
    "path = make_path(\"$GAMMAPY_DATA/fermi-3fhl-crab/Fermi-LAT-3FHL_models.yaml\")\n",
    "\n",
    "with path.open(\"r\") as f:\n",
    "    print(f.read())"
   ]
  },
  {
   "cell_type": "markdown",
   "metadata": {},
   "source": [
    "## Reading different datasets\n",
    "\n",
    "### Fermi-LAT 3FHL: map dataset for 3D analysis\n",
    "\n",
    "For now we let’s use the datasets serialization only to read the 3D\n",
    "`MapDataset` associated to Fermi-LAT 3FHL data and models.\n",
    "\n",
    "\n"
   ]
  },
  {
   "cell_type": "code",
   "execution_count": 67,
   "metadata": {
    "ExecuteTime": {
     "end_time": "2023-04-29T10:45:22.074533Z",
     "start_time": "2023-04-29T10:45:22.035330Z"
    }
   },
   "outputs": [
    {
     "name": "stdout",
     "output_type": "stream",
     "text": [
      "Models\n",
      "\n",
      "Component 0: SkyModel\n",
      "\n",
      "  Name                      : Crab Nebula\n",
      "  Datasets names            : None\n",
      "  Spectral model type       : LogParabolaSpectralModel\n",
      "  Spatial  model type       : PointSpatialModel\n",
      "  Temporal model type       : \n",
      "  Parameters:\n",
      "    amplitude                     :   1.82e-02   +/- 3.0e-03 1 / (cm2 s TeV)\n",
      "    reference             (frozen):      0.000       TeV         \n",
      "    alpha                         :      1.652   +/-    0.06             \n",
      "    beta                          :      0.039   +/-    0.01             \n",
      "    lon_0                 (frozen):     83.633       deg         \n",
      "    lat_0                 (frozen):     22.020       deg         \n",
      "\n",
      "Component 1: FoVBackgroundModel\n",
      "\n",
      "  Name                      : Fermi-LAT-bkg\n",
      "  Datasets names            : ['Fermi-LAT']\n",
      "  Spectral model type       : PowerLawNormSpectralModel\n",
      "  Parameters:\n",
      "    norm                          :      1.300   +/-    0.08             \n",
      "    tilt                  (frozen):      0.000                   \n",
      "    reference             (frozen):      1.000       TeV         \n",
      "\n",
      "\n"
     ]
    }
   ],
   "source": [
    "path = Path(\"$GAMMAPY_DATA/fermi-3fhl-crab\")\n",
    "filename = path / \"Fermi-LAT-3FHL_datasets.yaml\"\n",
    "\n",
    "datasets = Datasets.read(filename=filename)\n",
    "\n",
    "models = Models.read(path / \"Fermi-LAT-3FHL_models.yaml\")\n",
    "print(models)"
   ]
  },
  {
   "cell_type": "markdown",
   "metadata": {},
   "source": [
    "We get the Crab model in order to share it with the other datasets\n",
    "\n",
    "\n"
   ]
  },
  {
   "cell_type": "code",
   "execution_count": 9,
   "metadata": {
    "ExecuteTime": {
     "end_time": "2023-04-29T09:44:16.634513Z",
     "start_time": "2023-04-29T09:44:16.632455Z"
    }
   },
   "outputs": [
    {
     "name": "stdout",
     "output_type": "stream",
     "text": [
      "SkyModel\n",
      "\n",
      "  Name                      : Crab Nebula\n",
      "  Datasets names            : None\n",
      "  Spectral model type       : LogParabolaSpectralModel\n",
      "  Spatial  model type       : PointSpatialModel\n",
      "  Temporal model type       : \n",
      "  Parameters:\n",
      "    amplitude                     :   1.82e-02   +/- 3.0e-03 1 / (cm2 s TeV)\n",
      "    reference             (frozen):      0.000       TeV         \n",
      "    alpha                         :      1.652   +/-    0.06             \n",
      "    beta                          :      0.039   +/-    0.01             \n",
      "    lon_0                 (frozen):     83.633       deg         \n",
      "    lat_0                 (frozen):     22.020       deg         \n",
      "\n",
      "\n"
     ]
    }
   ],
   "source": [
    "print(models[\"Crab Nebula\"])"
   ]
  },
  {
   "cell_type": "markdown",
   "metadata": {},
   "source": [
    "### HESS-DL3: 1D ON/OFF dataset for spectral fitting\n",
    "\n",
    "The ON/OFF datasets can be read from PHA files following the [OGIP\n",
    "standards](https://heasarc.gsfc.nasa.gov/docs/heasarc/ofwg/docs/spectra/ogip_92_007/node5.html)_.\n",
    "We read the PHA files from each observation, and compute a stacked\n",
    "dataset for simplicity. Then the Crab spectral model previously defined\n",
    "is added to the dataset.\n",
    "\n",
    "\n"
   ]
  },
  {
   "cell_type": "code",
   "execution_count": 68,
   "metadata": {
    "ExecuteTime": {
     "end_time": "2023-04-29T10:45:25.850804Z",
     "start_time": "2023-04-29T10:45:25.740753Z"
    }
   },
   "outputs": [
    {
     "name": "stdout",
     "output_type": "stream",
     "text": [
      "Datasets\n",
      "--------\n",
      "\n",
      "Dataset 0: \n",
      "\n",
      "  Type       : MapDataset\n",
      "  Name       : Fermi-LAT\n",
      "  Instrument : \n",
      "  Models     : \n",
      "\n",
      "Dataset 1: \n",
      "\n",
      "  Type       : SpectrumDatasetOnOff\n",
      "  Name       : HESS\n",
      "  Instrument : \n",
      "  Models     : \n",
      "\n",
      "\n"
     ]
    }
   ],
   "source": [
    "datasets_hess = Datasets()\n",
    "\n",
    "for obs_id in [23523, 23526]:\n",
    "    dataset = SpectrumDatasetOnOff.read(\n",
    "        f\"$GAMMAPY_DATA/joint-crab/spectra/hess/pha_obs{obs_id}.fits\"\n",
    "    )\n",
    "    datasets_hess.append(dataset)\n",
    "\n",
    "dataset_hess = datasets_hess.stack_reduce(name=\"HESS\")\n",
    "\n",
    "datasets.append(dataset_hess)\n",
    "\n",
    "print(datasets)"
   ]
  },
  {
   "cell_type": "markdown",
   "metadata": {},
   "source": [
    "### HAWC: 1D dataset for flux point fitting\n",
    "\n",
    "The HAWC flux point are taken from https://arxiv.org/pdf/1905.12518.pdf\n",
    "Then these flux points are read from a pre-made FITS file and passed to\n",
    "a `FluxPointsDataset` together with the source spectral model.\n",
    "\n",
    "\n"
   ]
  },
  {
   "cell_type": "code",
   "execution_count": 69,
   "metadata": {
    "ExecuteTime": {
     "end_time": "2023-04-29T10:45:27.893180Z",
     "start_time": "2023-04-29T10:45:27.876026Z"
    }
   },
   "outputs": [
    {
     "name": "stdout",
     "output_type": "stream",
     "text": [
      "Datasets\n",
      "--------\n",
      "\n",
      "Dataset 0: \n",
      "\n",
      "  Type       : MapDataset\n",
      "  Name       : Fermi-LAT\n",
      "  Instrument : \n",
      "  Models     : \n",
      "\n",
      "Dataset 1: \n",
      "\n",
      "  Type       : SpectrumDatasetOnOff\n",
      "  Name       : HESS\n",
      "  Instrument : \n",
      "  Models     : \n",
      "\n",
      "Dataset 2: \n",
      "\n",
      "  Type       : FluxPointsDataset\n",
      "  Name       : HAWC\n",
      "  Instrument : \n",
      "  Models     : \n",
      "\n",
      "\n"
     ]
    }
   ],
   "source": [
    "# read flux points from https://arxiv.org/pdf/1905.12518.pdf\n",
    "filename = \"$GAMMAPY_DATA/hawc_crab/HAWC19_flux_points.fits\"\n",
    "flux_points_hawc = FluxPoints.read(\n",
    "    filename, reference_model=create_crab_spectral_model(\"meyer\")\n",
    ")\n",
    "\n",
    "dataset_hawc = FluxPointsDataset(data=flux_points_hawc, name=\"HAWC\")\n",
    "\n",
    "datasets.append(dataset_hawc)\n",
    "\n",
    "print(datasets)"
   ]
  },
  {
   "cell_type": "markdown",
   "metadata": {},
   "source": [
    "### LHAASO: 1D dataset for flux point fitting\n",
    "\n",
    "The LHAASO flux point are taken from https://arxiv.org/pdf/2111.06545.pdf\n",
    "Then these flux points are read from a pre-made csv file and passed to\n",
    "a `FluxPointsDataset` together with the source spectral model.\n",
    "\n",
    "\n"
   ]
  },
  {
   "cell_type": "code",
   "execution_count": 70,
   "metadata": {
    "ExecuteTime": {
     "end_time": "2023-04-29T10:45:30.858601Z",
     "start_time": "2023-04-29T10:45:30.836617Z"
    }
   },
   "outputs": [
    {
     "name": "stdout",
     "output_type": "stream",
     "text": [
      "Datasets\n",
      "--------\n",
      "\n",
      "Dataset 0: \n",
      "\n",
      "  Type       : MapDataset\n",
      "  Name       : Fermi-LAT\n",
      "  Instrument : \n",
      "  Models     : \n",
      "\n",
      "Dataset 1: \n",
      "\n",
      "  Type       : SpectrumDatasetOnOff\n",
      "  Name       : HESS\n",
      "  Instrument : \n",
      "  Models     : \n",
      "\n",
      "Dataset 2: \n",
      "\n",
      "  Type       : FluxPointsDataset\n",
      "  Name       : HAWC\n",
      "  Instrument : \n",
      "  Models     : \n",
      "\n",
      "Dataset 3: \n",
      "\n",
      "  Type       : FluxPointsDataset\n",
      "  Name       : LHAASO\n",
      "  Instrument : \n",
      "  Models     : \n",
      "\n",
      "\n"
     ]
    }
   ],
   "source": [
    "# read flux points from https://arxiv.org/pdf/1905.12518.pdf\n",
    "filename = \"./crab-3datasets/FluxPoints_lhaaso2021_km2a.dat\"\n",
    "flux_points_LHAASO = FluxPoints.read(\n",
    "    filename, reference_model=create_crab_spectral_model(\"meyer\")\n",
    ")\n",
    "\n",
    "# Add 10% systematic error\n",
    "errn_sq = flux_points_LHAASO.dnde_errn.quantity**2 + (0.1*flux_points_LHAASO.dnde_ref)**2\n",
    "errn_new = np.sqrt(errn_sq) / flux_points_LHAASO.dnde_ref\n",
    "flux_points_LHAASO._data['norm_errn'].data = errn_new.to_value('')\n",
    "\n",
    "errp_sq = flux_points_LHAASO.dnde_errp.quantity**2 + (0.1*flux_points_LHAASO.dnde_ref)**2\n",
    "errp_new = np.sqrt(errp_sq) / flux_points_LHAASO.dnde_ref\n",
    "flux_points_LHAASO._data['norm_errp'].data = errp_new.to_value('')\n",
    "\n",
    "dataset_LHAASO = FluxPointsDataset(data=flux_points_LHAASO, name=\"LHAASO\")\n",
    "\n",
    "datasets.append(dataset_LHAASO)\n",
    "\n",
    "print(datasets)"
   ]
  },
  {
   "cell_type": "markdown",
   "metadata": {},
   "source": [
    "## Datasets serialization\n",
    "\n",
    "The `datasets` object contains each dataset previously defined. It can\n",
    "be saved on disk as datasets.yaml, models.yaml, and several data files\n",
    "specific to each dataset. Then the `datasets` can be rebuild later\n",
    "from these files.\n",
    "\n",
    "\n"
   ]
  },
  {
   "cell_type": "code",
   "execution_count": 71,
   "metadata": {
    "ExecuteTime": {
     "end_time": "2023-04-29T10:45:41.615680Z",
     "start_time": "2023-04-29T10:45:40.707514Z"
    }
   },
   "outputs": [
    {
     "name": "stderr",
     "output_type": "stream",
     "text": [
      "HDU 'MASK_FIT' not found\n",
      "No reference model set for FluxMaps. Assuming point source with E^-2 spectrum.\n",
      "No reference model set for FluxMaps. Assuming point source with E^-2 spectrum.\n"
     ]
    },
    {
     "name": "stdout",
     "output_type": "stream",
     "text": [
      "Datasets\n",
      "--------\n",
      "\n",
      "Dataset 0: \n",
      "\n",
      "  Type       : MapDataset\n",
      "  Name       : Fermi-LAT\n",
      "  Instrument : \n",
      "  Models     : ['Crab Nebula', 'Fermi-LAT-bkg']\n",
      "\n",
      "Dataset 1: \n",
      "\n",
      "  Type       : SpectrumDatasetOnOff\n",
      "  Name       : HESS\n",
      "  Instrument : \n",
      "  Models     : ['Crab Nebula']\n",
      "\n",
      "Dataset 2: \n",
      "\n",
      "  Type       : FluxPointsDataset\n",
      "  Name       : HAWC\n",
      "  Instrument : \n",
      "  Models     : ['Crab Nebula']\n",
      "\n",
      "Dataset 3: \n",
      "\n",
      "  Type       : FluxPointsDataset\n",
      "  Name       : LHAASO\n",
      "  Instrument : \n",
      "  Models     : ['Crab Nebula']\n",
      "\n",
      "\n"
     ]
    }
   ],
   "source": [
    "path = Path(\"crab-3datasets\")\n",
    "path.mkdir(exist_ok=True)\n",
    "\n",
    "filename = path / \"crab_10GeV_100TeV_datasets.yaml\"\n",
    "\n",
    "datasets.write(filename, overwrite=True)\n",
    "\n",
    "datasets = Datasets.read(filename)\n",
    "datasets.models = models\n",
    "\n",
    "print(datasets)"
   ]
  },
  {
   "cell_type": "markdown",
   "metadata": {},
   "source": [
    "## Joint analysis\n",
    "\n",
    "We run the fit on the `Datasets` object that include a dataset for\n",
    "each instrument\n",
    "\n",
    "\n"
   ]
  },
  {
   "cell_type": "code",
   "execution_count": 72,
   "metadata": {
    "ExecuteTime": {
     "end_time": "2023-04-29T10:46:24.764881Z",
     "start_time": "2023-04-29T10:46:21.429673Z"
    }
   },
   "outputs": [
    {
     "name": "stderr",
     "output_type": "stream",
     "text": [
      "HDU 'MASK_FIT' not found\n"
     ]
    },
    {
     "name": "stdout",
     "output_type": "stream",
     "text": [
      "OptimizeResult\n",
      "\n",
      "\tbackend    : minuit\n",
      "\tmethod     : migrad\n",
      "\tsuccess    : True\n",
      "\tmessage    : Optimization terminated successfully.\n",
      "\tnfev       : 374\n",
      "\ttotal stat : -12649.79\n",
      "\n",
      "CovarianceResult\n",
      "\n",
      "\tbackend    : minuit\n",
      "\tmethod     : hesse\n",
      "\tsuccess    : True\n",
      "\tmessage    : Hesse terminated successfully.\n",
      "\n"
     ]
    }
   ],
   "source": [
    "fit_joint = Fit()\n",
    "results_joint = fit_joint.run(datasets=datasets)\n",
    "print(results_joint)"
   ]
  },
  {
   "cell_type": "markdown",
   "metadata": {},
   "source": [
    "Let’s display only the parameters of the Crab spectral model\n",
    "\n",
    "\n"
   ]
  },
  {
   "cell_type": "code",
   "execution_count": 73,
   "metadata": {
    "ExecuteTime": {
     "end_time": "2023-04-29T10:46:30.932268Z",
     "start_time": "2023-04-29T10:46:30.928800Z"
    }
   },
   "outputs": [
    {
     "name": "stdout",
     "output_type": "stream",
     "text": [
      "LogParabolaSpectralModel\n",
      "\n",
      "  type      name     value         unit      ... max frozen is_norm link\n",
      "-------- --------- ---------- -------------- ... --- ------ ------- ----\n",
      "spectral amplitude 2.0422e-03 cm-2 s-1 TeV-1 ... nan  False    True     \n",
      "spectral reference 5.0548e-05            TeV ... nan   True   False     \n",
      "spectral     alpha 1.0945e+00                ... nan  False   False     \n",
      "spectral      beta 7.1127e-02                ... nan  False   False     \n"
     ]
    }
   ],
   "source": [
    "crab_spec = datasets[0].models[\"Crab Nebula\"].spectral_model\n",
    "print(crab_spec)"
   ]
  },
  {
   "cell_type": "markdown",
   "metadata": {},
   "source": [
    "We can compute flux points for Fermi-LAT and HESS datasets in order plot\n",
    "them together with the HAWC flux point.\n",
    "\n",
    "\n"
   ]
  },
  {
   "cell_type": "code",
   "execution_count": 74,
   "metadata": {
    "ExecuteTime": {
     "end_time": "2023-04-29T10:46:34.836842Z",
     "start_time": "2023-04-29T10:46:32.506445Z"
    }
   },
   "outputs": [],
   "source": [
    "# compute Fermi-LAT and HESS flux points\n",
    "energy_edges = MapAxis.from_energy_bounds(\"10 GeV\", \"2 TeV\", nbin=5).edges\n",
    "\n",
    "flux_points_fermi = FluxPointsEstimator(\n",
    "    energy_edges=energy_edges,\n",
    "    source=\"Crab Nebula\",\n",
    ").run([datasets[\"Fermi-LAT\"]])\n",
    "\n",
    "\n",
    "energy_edges = MapAxis.from_bounds(1, 15, nbin=6, interp=\"log\", unit=\"TeV\").edges\n",
    "\n",
    "flux_points_hess = FluxPointsEstimator(\n",
    "    energy_edges=energy_edges, source=\"Crab Nebula\", selection_optional=[\"ul\"]\n",
    ").run([datasets[\"HESS\"]])"
   ]
  },
  {
   "cell_type": "code",
   "execution_count": 84,
   "metadata": {
    "ExecuteTime": {
     "end_time": "2023-04-29T15:33:18.983714Z",
     "start_time": "2023-04-29T15:33:18.917977Z"
    }
   },
   "outputs": [],
   "source": [
    "flux_points_hess.write('crab-3datasets/FluxPoints_hess.fits', overwrite=True)\n",
    "flux_points_fermi.write('crab-3datasets/FluxPoints_fermi.fits', overwrite=True)"
   ]
  },
  {
   "cell_type": "markdown",
   "metadata": {},
   "source": [
    "Now, Let’s plot the Crab spectrum fitted and the flux points of each\n",
    "instrument.\n",
    "\n",
    "\n"
   ]
  },
  {
   "cell_type": "code",
   "execution_count": 78,
   "metadata": {
    "ExecuteTime": {
     "end_time": "2023-04-29T15:30:56.910996Z",
     "start_time": "2023-04-29T15:30:56.489316Z"
    }
   },
   "outputs": [
    {
     "data": {
      "image/png": "[encoded data removed]",
      "text/plain": [
       "<Figure size 800x600 with 1 Axes>"
      ]
     },
     "metadata": {},
     "output_type": "display_data"
    }
   ],
   "source": [
    "# display spectrum and flux points\n",
    "fig, ax = plt.subplots(figsize=(8, 6))\n",
    "\n",
    "energy_bounds = [0.007, 3e3] * u.TeV\n",
    "sed_type = \"e2dnde\"\n",
    "\n",
    "crab_spec.plot(ax=ax, energy_bounds=energy_bounds, sed_type=sed_type, label=\"Model\")\n",
    "crab_spec.plot_error(ax=ax, energy_bounds=energy_bounds, sed_type=sed_type)\n",
    "\n",
    "flux_points_fermi.plot(ax=ax, sed_type=sed_type, label=\"Fermi-LAT\")\n",
    "flux_points_hess.plot(ax=ax, sed_type=sed_type, label=\"HESS\")\n",
    "flux_points_hawc.plot(ax=ax, sed_type=sed_type, label=\"HAWC\")\n",
    "flux_points_LHAASO.plot(ax=ax, sed_type=sed_type, label=\"LHAASO\")\n",
    "\n",
    "ax.set_xlim(energy_bounds)\n",
    "ax.legend()\n",
    "plt.show()"
   ]
  },
  {
   "cell_type": "code",
   "execution_count": 76,
   "metadata": {
    "ExecuteTime": {
     "end_time": "2023-04-29T10:46:46.892137Z",
     "start_time": "2023-04-29T10:46:46.887436Z"
    }
   },
   "outputs": [
    {
     "name": "stdout",
     "output_type": "stream",
     "text": [
      "FluxPointsDataset\n",
      "-----------------\n",
      "\n",
      "  Name                            : LHAASO \n",
      "\n",
      "  Number of total flux points     : 12 \n",
      "  Number of fit bins              : 11 \n",
      "\n",
      "  Fit statistic type              : chi2\n",
      "  Fit statistic value (-2 log(L)) : 21.44\n",
      "\n",
      "  Number of models                : 1 \n",
      "  Number of parameters            : 6\n",
      "  Number of free parameters       : 3\n",
      "\n",
      "  Component 0: SkyModel\n",
      "  \n",
      "    Name                      : Crab Nebula\n",
      "    Datasets names            : None\n",
      "    Spectral model type       : LogParabolaSpectralModel\n",
      "    Spatial  model type       : PointSpatialModel\n",
      "    Temporal model type       : \n",
      "    Parameters:\n",
      "      amplitude                     :   2.04e-03   +/- 1.5e-04 1 / (cm2 s TeV)\n",
      "      reference             (frozen):      0.000       TeV         \n",
      "      alpha                         :      1.095   +/-    0.02             \n",
      "      beta                          :      0.071   +/-    0.00             \n",
      "      lon_0                 (frozen):     83.633       deg         \n",
      "      lat_0                 (frozen):     22.020       deg         \n",
      "  \n",
      "  \n"
     ]
    }
   ],
   "source": [
    "print(datasets['LHAASO'])"
   ]
  },
  {
   "cell_type": "code",
   "execution_count": null,
   "metadata": {},
   "outputs": [],
   "source": []
  }
 ],
 "metadata": {
  "kernelspec": {
   "display_name": "Python [conda env:gammapy-1.0]",
   "language": "python",
   "name": "conda-env-gammapy-1.0-py"
  },
  "language_info": {
   "codemirror_mode": {
    "name": "ipython",
    "version": 3
   },
   "file_extension": ".py",
   "mimetype": "text/x-python",
   "name": "python",
   "nbconvert_exporter": "python",
   "pygments_lexer": "ipython3",
   "version": "3.9.15"
  }
 },
 "nbformat": 4,
 "nbformat_minor": 1
}
